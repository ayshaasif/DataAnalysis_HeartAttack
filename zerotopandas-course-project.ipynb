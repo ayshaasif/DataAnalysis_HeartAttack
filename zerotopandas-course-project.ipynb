{
 "cells": [
  {
   "cell_type": "markdown",
   "metadata": {},
   "source": [
    "# Heart Diseases\n",
    "Heart Diseases or cardiovascular disease are  the leading cause of death in the world with an taking lives of an estimated 17.9 million people.These heart diseases include cerebrovascular disease, rheumatic heart disease . WHO States,\"Four out of 5 deaths are due to heart attacks and strokes, and one third of these deaths occur prematurely in people under 70 years of age\".\n",
    "\n",
    "Taking these notions into consideration, we'll be analyzing the behavioural and physical factors of heart diseases."
   ]
  },
  {
   "cell_type": "code",
   "execution_count": 1,
   "metadata": {},
   "outputs": [],
   "source": [
    "project_name = \"heart diseases - data analysis\" "
   ]
  },
  {
   "cell_type": "code",
   "execution_count": 2,
   "metadata": {},
   "outputs": [],
   "source": [
    "!pip install jovian --upgrade -q"
   ]
  },
  {
   "cell_type": "code",
   "execution_count": 3,
   "metadata": {},
   "outputs": [],
   "source": [
    "import jovian"
   ]
  },
  {
   "cell_type": "code",
   "execution_count": 4,
   "metadata": {
    "scrolled": true
   },
   "outputs": [
    {
     "data": {
      "application/javascript": [
       "window.require && require([\"base/js/namespace\"],function(Jupyter){Jupyter.notebook.save_checkpoint()})"
      ],
      "text/plain": [
       "<IPython.core.display.Javascript object>"
      ]
     },
     "metadata": {},
     "output_type": "display_data"
    },
    {
     "name": "stdout",
     "output_type": "stream",
     "text": [
      "[jovian] Attempting to save notebook..\u001b[0m\n",
      "[jovian] Updating notebook \"ayshaasif14/heart-diseases-data-analysis\" on https://jovian.ml/\u001b[0m\n",
      "[jovian] Uploading notebook..\u001b[0m\n",
      "[jovian] Capturing environment..\u001b[0m\n",
      "[jovian] Committed successfully! https://jovian.ml/ayshaasif14/heart-diseases-data-analysis\u001b[0m\n"
     ]
    },
    {
     "data": {
      "text/plain": [
       "'https://jovian.ml/ayshaasif14/heart-diseases-data-analysis'"
      ]
     },
     "execution_count": 4,
     "metadata": {},
     "output_type": "execute_result"
    }
   ],
   "source": [
    "jovian.commit(project=project_name)"
   ]
  },
  {
   "cell_type": "markdown",
   "metadata": {},
   "source": [
    "## Data Preparation and Cleaning"
   ]
  },
  {
   "cell_type": "markdown",
   "metadata": {},
   "source": [
    "We will be importing 2 datasets; heart.csv and cardiovascular.csv."
   ]
  },
  {
   "cell_type": "markdown",
   "metadata": {},
   "source": [
    "file1 will read heart.csv and file2 will read cardiovascular.csv."
   ]
  },
  {
   "cell_type": "code",
   "execution_count": 5,
   "metadata": {},
   "outputs": [],
   "source": [
    "import os"
   ]
  },
  {
   "cell_type": "code",
   "execution_count": 6,
   "metadata": {},
   "outputs": [
    {
     "data": {
      "text/plain": [
       "'/home/jovyan'"
      ]
     },
     "execution_count": 6,
     "metadata": {},
     "output_type": "execute_result"
    }
   ],
   "source": [
    "os.getcwd()"
   ]
  },
  {
   "cell_type": "code",
   "execution_count": 7,
   "metadata": {},
   "outputs": [],
   "source": [
    "file1 = open('./heart.csv',mode='r')"
   ]
  },
  {
   "cell_type": "code",
   "execution_count": 8,
   "metadata": {},
   "outputs": [],
   "source": [
    "file1_content=file1.read()"
   ]
  },
  {
   "cell_type": "code",
   "execution_count": 9,
   "metadata": {},
   "outputs": [],
   "source": [
    "import pandas as pd"
   ]
  },
  {
   "cell_type": "code",
   "execution_count": 10,
   "metadata": {},
   "outputs": [],
   "source": [
    "file1_df =pd.read_csv('heart.csv')"
   ]
  },
  {
   "cell_type": "markdown",
   "metadata": {},
   "source": [
    "  File1 consists of sex,target..etc  with integer values , for making it more understandable we will be replacing these     values with some string values."
   ]
  },
  {
   "cell_type": "markdown",
   "metadata": {},
   "source": [
    "to DO this we need to convert the data type for these columns to string ,we will use '.astype' function to convert it \n",
    "from integer to string."
   ]
  },
  {
   "cell_type": "code",
   "execution_count": 11,
   "metadata": {},
   "outputs": [],
   "source": [
    "file1_df['sex'] = file1_df['sex'].astype('str')\n",
    "file1_df['target'] = file1_df['target'].astype('str')"
   ]
  },
  {
   "cell_type": "markdown",
   "metadata": {},
   "source": [
    "after changing the datatype, now we can assign the desired string value to these columns ,we will be replacing the values using \n",
    ".loc function."
   ]
  },
  {
   "cell_type": "code",
   "execution_count": 12,
   "metadata": {},
   "outputs": [],
   "source": [
    "file1_df.loc[file1_df.sex == '1','sex'] = 'M'\n",
    "file1_df.loc[file1_df.sex == '0','sex'] = 'F'\n"
   ]
  },
  {
   "cell_type": "code",
   "execution_count": 13,
   "metadata": {},
   "outputs": [],
   "source": [
    "file1_df.loc[file1_df.target == '1','target'] = 'T'\n",
    "file1_df.loc[file1_df.target == '0','target'] = 'F'"
   ]
  },
  {
   "cell_type": "code",
   "execution_count": 14,
   "metadata": {},
   "outputs": [],
   "source": [
    "file1_df.loc[file1_df.target == 'T','target'] = '0'\n",
    "file1_df.loc[file1_df.target == 'F','target'] = '1'"
   ]
  },
  {
   "cell_type": "markdown",
   "metadata": {},
   "source": [
    "To clearly understand what each of the columns represents we will be using the full column name. we will rename the column names using .rename(),the 'inplace = True' makes changes to the original dataset"
   ]
  },
  {
   "cell_type": "code",
   "execution_count": 15,
   "metadata": {},
   "outputs": [],
   "source": [
    "file1_df.rename(columns={'chol':'cholesterol'}, inplace=True)\n",
    "file1_df.rename(columns={'cp':'chestpain'}, inplace=True)"
   ]
  },
  {
   "cell_type": "markdown",
   "metadata": {},
   "source": [
    "Although the dataset consists of other informations, we will limit our data to age,sex,cholesterol,chestpain type and target \n",
    "which  gives the status of heart disease in a person."
   ]
  },
  {
   "cell_type": "code",
   "execution_count": 16,
   "metadata": {},
   "outputs": [],
   "source": [
    "heart_df = file1_df[['age','sex','cholesterol','chestpain','target']]\n"
   ]
  },
  {
   "cell_type": "code",
   "execution_count": null,
   "metadata": {},
   "outputs": [],
   "source": []
  },
  {
   "cell_type": "markdown",
   "metadata": {},
   "source": [
    "### now we will be looking into our 2nd dataset- 'cardiovascular.csv'"
   ]
  },
  {
   "cell_type": "code",
   "execution_count": 17,
   "metadata": {},
   "outputs": [],
   "source": [
    "file2 = open('./cardiovascular.csv',mode='r')"
   ]
  },
  {
   "cell_type": "code",
   "execution_count": 18,
   "metadata": {},
   "outputs": [],
   "source": [
    "file2_content = file2.read()"
   ]
  },
  {
   "cell_type": "code",
   "execution_count": 19,
   "metadata": {},
   "outputs": [
    {
     "data": {
      "text/html": [
       "<div>\n",
       "<style scoped>\n",
       "    .dataframe tbody tr th:only-of-type {\n",
       "        vertical-align: middle;\n",
       "    }\n",
       "\n",
       "    .dataframe tbody tr th {\n",
       "        vertical-align: top;\n",
       "    }\n",
       "\n",
       "    .dataframe thead th {\n",
       "        text-align: right;\n",
       "    }\n",
       "</style>\n",
       "<table border=\"1\" class=\"dataframe\">\n",
       "  <thead>\n",
       "    <tr style=\"text-align: right;\">\n",
       "      <th></th>\n",
       "      <th>age</th>\n",
       "      <th>gender</th>\n",
       "      <th>height</th>\n",
       "      <th>weight</th>\n",
       "      <th>ap_hi</th>\n",
       "      <th>ap_lo</th>\n",
       "      <th>cholesterol</th>\n",
       "      <th>gluc</th>\n",
       "      <th>smoke</th>\n",
       "      <th>alco</th>\n",
       "      <th>active</th>\n",
       "      <th>cardio</th>\n",
       "    </tr>\n",
       "  </thead>\n",
       "  <tbody>\n",
       "    <tr>\n",
       "      <th>0</th>\n",
       "      <td>18393</td>\n",
       "      <td>2</td>\n",
       "      <td>168</td>\n",
       "      <td>62.0</td>\n",
       "      <td>110</td>\n",
       "      <td>80</td>\n",
       "      <td>1</td>\n",
       "      <td>1</td>\n",
       "      <td>0</td>\n",
       "      <td>0</td>\n",
       "      <td>1</td>\n",
       "      <td>0</td>\n",
       "    </tr>\n",
       "    <tr>\n",
       "      <th>1</th>\n",
       "      <td>20228</td>\n",
       "      <td>1</td>\n",
       "      <td>156</td>\n",
       "      <td>85.0</td>\n",
       "      <td>140</td>\n",
       "      <td>90</td>\n",
       "      <td>3</td>\n",
       "      <td>1</td>\n",
       "      <td>0</td>\n",
       "      <td>0</td>\n",
       "      <td>1</td>\n",
       "      <td>1</td>\n",
       "    </tr>\n",
       "    <tr>\n",
       "      <th>2</th>\n",
       "      <td>18857</td>\n",
       "      <td>1</td>\n",
       "      <td>165</td>\n",
       "      <td>64.0</td>\n",
       "      <td>130</td>\n",
       "      <td>70</td>\n",
       "      <td>3</td>\n",
       "      <td>1</td>\n",
       "      <td>0</td>\n",
       "      <td>0</td>\n",
       "      <td>0</td>\n",
       "      <td>1</td>\n",
       "    </tr>\n",
       "    <tr>\n",
       "      <th>3</th>\n",
       "      <td>17623</td>\n",
       "      <td>2</td>\n",
       "      <td>169</td>\n",
       "      <td>82.0</td>\n",
       "      <td>150</td>\n",
       "      <td>100</td>\n",
       "      <td>1</td>\n",
       "      <td>1</td>\n",
       "      <td>0</td>\n",
       "      <td>0</td>\n",
       "      <td>1</td>\n",
       "      <td>1</td>\n",
       "    </tr>\n",
       "    <tr>\n",
       "      <th>4</th>\n",
       "      <td>17474</td>\n",
       "      <td>1</td>\n",
       "      <td>156</td>\n",
       "      <td>56.0</td>\n",
       "      <td>100</td>\n",
       "      <td>60</td>\n",
       "      <td>1</td>\n",
       "      <td>1</td>\n",
       "      <td>0</td>\n",
       "      <td>0</td>\n",
       "      <td>0</td>\n",
       "      <td>0</td>\n",
       "    </tr>\n",
       "    <tr>\n",
       "      <th>...</th>\n",
       "      <td>...</td>\n",
       "      <td>...</td>\n",
       "      <td>...</td>\n",
       "      <td>...</td>\n",
       "      <td>...</td>\n",
       "      <td>...</td>\n",
       "      <td>...</td>\n",
       "      <td>...</td>\n",
       "      <td>...</td>\n",
       "      <td>...</td>\n",
       "      <td>...</td>\n",
       "      <td>...</td>\n",
       "    </tr>\n",
       "    <tr>\n",
       "      <th>69995</th>\n",
       "      <td>19240</td>\n",
       "      <td>2</td>\n",
       "      <td>168</td>\n",
       "      <td>76.0</td>\n",
       "      <td>120</td>\n",
       "      <td>80</td>\n",
       "      <td>1</td>\n",
       "      <td>1</td>\n",
       "      <td>1</td>\n",
       "      <td>0</td>\n",
       "      <td>1</td>\n",
       "      <td>0</td>\n",
       "    </tr>\n",
       "    <tr>\n",
       "      <th>69996</th>\n",
       "      <td>22601</td>\n",
       "      <td>1</td>\n",
       "      <td>158</td>\n",
       "      <td>126.0</td>\n",
       "      <td>140</td>\n",
       "      <td>90</td>\n",
       "      <td>2</td>\n",
       "      <td>2</td>\n",
       "      <td>0</td>\n",
       "      <td>0</td>\n",
       "      <td>1</td>\n",
       "      <td>1</td>\n",
       "    </tr>\n",
       "    <tr>\n",
       "      <th>69997</th>\n",
       "      <td>19066</td>\n",
       "      <td>2</td>\n",
       "      <td>183</td>\n",
       "      <td>105.0</td>\n",
       "      <td>180</td>\n",
       "      <td>90</td>\n",
       "      <td>3</td>\n",
       "      <td>1</td>\n",
       "      <td>0</td>\n",
       "      <td>1</td>\n",
       "      <td>0</td>\n",
       "      <td>1</td>\n",
       "    </tr>\n",
       "    <tr>\n",
       "      <th>69998</th>\n",
       "      <td>22431</td>\n",
       "      <td>1</td>\n",
       "      <td>163</td>\n",
       "      <td>72.0</td>\n",
       "      <td>135</td>\n",
       "      <td>80</td>\n",
       "      <td>1</td>\n",
       "      <td>2</td>\n",
       "      <td>0</td>\n",
       "      <td>0</td>\n",
       "      <td>0</td>\n",
       "      <td>1</td>\n",
       "    </tr>\n",
       "    <tr>\n",
       "      <th>69999</th>\n",
       "      <td>20540</td>\n",
       "      <td>1</td>\n",
       "      <td>170</td>\n",
       "      <td>72.0</td>\n",
       "      <td>120</td>\n",
       "      <td>80</td>\n",
       "      <td>2</td>\n",
       "      <td>1</td>\n",
       "      <td>0</td>\n",
       "      <td>0</td>\n",
       "      <td>1</td>\n",
       "      <td>0</td>\n",
       "    </tr>\n",
       "  </tbody>\n",
       "</table>\n",
       "<p>70000 rows × 12 columns</p>\n",
       "</div>"
      ],
      "text/plain": [
       "         age  gender  height  weight  ap_hi  ap_lo  cholesterol  gluc  smoke  \\\n",
       "0      18393       2     168    62.0    110     80            1     1      0   \n",
       "1      20228       1     156    85.0    140     90            3     1      0   \n",
       "2      18857       1     165    64.0    130     70            3     1      0   \n",
       "3      17623       2     169    82.0    150    100            1     1      0   \n",
       "4      17474       1     156    56.0    100     60            1     1      0   \n",
       "...      ...     ...     ...     ...    ...    ...          ...   ...    ...   \n",
       "69995  19240       2     168    76.0    120     80            1     1      1   \n",
       "69996  22601       1     158   126.0    140     90            2     2      0   \n",
       "69997  19066       2     183   105.0    180     90            3     1      0   \n",
       "69998  22431       1     163    72.0    135     80            1     2      0   \n",
       "69999  20540       1     170    72.0    120     80            2     1      0   \n",
       "\n",
       "       alco  active  cardio  \n",
       "0         0       1       0  \n",
       "1         0       1       1  \n",
       "2         0       0       1  \n",
       "3         0       1       1  \n",
       "4         0       0       0  \n",
       "...     ...     ...     ...  \n",
       "69995     0       1       0  \n",
       "69996     0       1       1  \n",
       "69997     1       0       1  \n",
       "69998     0       0       1  \n",
       "69999     0       1       0  \n",
       "\n",
       "[70000 rows x 12 columns]"
      ]
     },
     "execution_count": 19,
     "metadata": {},
     "output_type": "execute_result"
    }
   ],
   "source": [
    "file2_df=pd.read_csv('cardiovascular.csv')\n",
    "file2_df"
   ]
  },
  {
   "cell_type": "code",
   "execution_count": 20,
   "metadata": {},
   "outputs": [],
   "source": [
    "file2_df.rename(columns={'alco':'alcohol_intake'}, inplace=True)\n",
    "file2_df.rename(columns={'gender':'sex'}, inplace=True)\n",
    "file2_df.rename(columns={'gluc':'glucose'}, inplace=True)\n"
   ]
  },
  {
   "cell_type": "code",
   "execution_count": 21,
   "metadata": {},
   "outputs": [],
   "source": [
    "file2_df['sex'] = file2_df['sex'].astype(str)\n",
    "file2_df['smoke'] = file2_df['smoke'].astype(str)\n",
    "file2_df['active'] = file2_df['active'].astype(str)\n",
    "file2_df['alcohol_intake'] = file2_df['alcohol_intake'].astype(str)\n",
    "file2_df['cardio'] = file2_df['cardio'].astype(str)\n",
    "file2_df['cholesterol'] = file2_df['cholesterol'].astype(str)\n",
    "file2_df['glucose'] = file2_df['glucose'].astype(str)\n",
    "file2_df['weight'] = file2_df['weight'].astype(int)\n",
    "file2_df['height'] = file2_df['height'].astype(int)\n",
    "\n"
   ]
  },
  {
   "cell_type": "code",
   "execution_count": 22,
   "metadata": {},
   "outputs": [],
   "source": [
    "file2_df.loc[file2_df.smoke == '0','smoke'] = 'No'\n",
    "file2_df.loc[file2_df.smoke == '1','smoke'] = 'Yes'\n",
    "\n",
    "file2_df.loc[file2_df.alcohol_intake == '0','alcohol_intake'] = 'No'\n",
    "file2_df.loc[file2_df.alcohol_intake == '1','alcohol_intake'] = 'Yes'"
   ]
  },
  {
   "cell_type": "code",
   "execution_count": 23,
   "metadata": {},
   "outputs": [],
   "source": [
    "file2_df.loc[file2_df.sex == '1','sex'] = 'F'\n",
    "file2_df.loc[file2_df.sex == '2','sex'] = 'M'\n",
    "\n"
   ]
  },
  {
   "cell_type": "code",
   "execution_count": 24,
   "metadata": {},
   "outputs": [],
   "source": [
    "file2_df.loc[file2_df.cholesterol == '1','cholesterol'] = 'Normal'\n",
    "file2_df.loc[file2_df.cholesterol == '2','cholesterol'] = 'Above Normal'\n",
    "file2_df.loc[file2_df.cholesterol == '3','cholesterol'] = 'Well Above Normal'\n",
    "\n",
    "\n",
    "file2_df.loc[file2_df.glucose == '1','glucose'] = 'Normal'\n",
    "file2_df.loc[file2_df.glucose == '2','glucose'] = 'Above Normal'\n",
    "file2_df.loc[file2_df.glucose == '3','glucose'] = 'Well Above Normal'"
   ]
  },
  {
   "cell_type": "code",
   "execution_count": 25,
   "metadata": {},
   "outputs": [],
   "source": [
    "file2_df['age( in years )'] = file2_df['age']/356\n",
    "\n"
   ]
  },
  {
   "cell_type": "code",
   "execution_count": 26,
   "metadata": {},
   "outputs": [],
   "source": [
    "file2_df['age( in years )']= round(file2_df['age( in years )'])\n"
   ]
  },
  {
   "cell_type": "code",
   "execution_count": null,
   "metadata": {},
   "outputs": [],
   "source": []
  },
  {
   "cell_type": "code",
   "execution_count": 27,
   "metadata": {},
   "outputs": [
    {
     "data": {
      "text/html": [
       "<div>\n",
       "<style scoped>\n",
       "    .dataframe tbody tr th:only-of-type {\n",
       "        vertical-align: middle;\n",
       "    }\n",
       "\n",
       "    .dataframe tbody tr th {\n",
       "        vertical-align: top;\n",
       "    }\n",
       "\n",
       "    .dataframe thead th {\n",
       "        text-align: right;\n",
       "    }\n",
       "</style>\n",
       "<table border=\"1\" class=\"dataframe\">\n",
       "  <thead>\n",
       "    <tr style=\"text-align: right;\">\n",
       "      <th></th>\n",
       "      <th>age</th>\n",
       "      <th>sex</th>\n",
       "      <th>height</th>\n",
       "      <th>weight</th>\n",
       "      <th>ap_hi</th>\n",
       "      <th>ap_lo</th>\n",
       "      <th>cholesterol</th>\n",
       "      <th>glucose</th>\n",
       "      <th>smoke</th>\n",
       "      <th>alcohol_intake</th>\n",
       "      <th>active</th>\n",
       "      <th>cardio</th>\n",
       "      <th>age( in years )</th>\n",
       "    </tr>\n",
       "  </thead>\n",
       "  <tbody>\n",
       "    <tr>\n",
       "      <th>0</th>\n",
       "      <td>18393</td>\n",
       "      <td>M</td>\n",
       "      <td>168</td>\n",
       "      <td>62</td>\n",
       "      <td>110</td>\n",
       "      <td>80</td>\n",
       "      <td>Normal</td>\n",
       "      <td>Normal</td>\n",
       "      <td>No</td>\n",
       "      <td>No</td>\n",
       "      <td>1</td>\n",
       "      <td>0</td>\n",
       "      <td>52.0</td>\n",
       "    </tr>\n",
       "    <tr>\n",
       "      <th>1</th>\n",
       "      <td>20228</td>\n",
       "      <td>F</td>\n",
       "      <td>156</td>\n",
       "      <td>85</td>\n",
       "      <td>140</td>\n",
       "      <td>90</td>\n",
       "      <td>Well Above Normal</td>\n",
       "      <td>Normal</td>\n",
       "      <td>No</td>\n",
       "      <td>No</td>\n",
       "      <td>1</td>\n",
       "      <td>1</td>\n",
       "      <td>57.0</td>\n",
       "    </tr>\n",
       "    <tr>\n",
       "      <th>2</th>\n",
       "      <td>18857</td>\n",
       "      <td>F</td>\n",
       "      <td>165</td>\n",
       "      <td>64</td>\n",
       "      <td>130</td>\n",
       "      <td>70</td>\n",
       "      <td>Well Above Normal</td>\n",
       "      <td>Normal</td>\n",
       "      <td>No</td>\n",
       "      <td>No</td>\n",
       "      <td>0</td>\n",
       "      <td>1</td>\n",
       "      <td>53.0</td>\n",
       "    </tr>\n",
       "    <tr>\n",
       "      <th>3</th>\n",
       "      <td>17623</td>\n",
       "      <td>M</td>\n",
       "      <td>169</td>\n",
       "      <td>82</td>\n",
       "      <td>150</td>\n",
       "      <td>100</td>\n",
       "      <td>Normal</td>\n",
       "      <td>Normal</td>\n",
       "      <td>No</td>\n",
       "      <td>No</td>\n",
       "      <td>1</td>\n",
       "      <td>1</td>\n",
       "      <td>50.0</td>\n",
       "    </tr>\n",
       "    <tr>\n",
       "      <th>4</th>\n",
       "      <td>17474</td>\n",
       "      <td>F</td>\n",
       "      <td>156</td>\n",
       "      <td>56</td>\n",
       "      <td>100</td>\n",
       "      <td>60</td>\n",
       "      <td>Normal</td>\n",
       "      <td>Normal</td>\n",
       "      <td>No</td>\n",
       "      <td>No</td>\n",
       "      <td>0</td>\n",
       "      <td>0</td>\n",
       "      <td>49.0</td>\n",
       "    </tr>\n",
       "    <tr>\n",
       "      <th>...</th>\n",
       "      <td>...</td>\n",
       "      <td>...</td>\n",
       "      <td>...</td>\n",
       "      <td>...</td>\n",
       "      <td>...</td>\n",
       "      <td>...</td>\n",
       "      <td>...</td>\n",
       "      <td>...</td>\n",
       "      <td>...</td>\n",
       "      <td>...</td>\n",
       "      <td>...</td>\n",
       "      <td>...</td>\n",
       "      <td>...</td>\n",
       "    </tr>\n",
       "    <tr>\n",
       "      <th>69995</th>\n",
       "      <td>19240</td>\n",
       "      <td>M</td>\n",
       "      <td>168</td>\n",
       "      <td>76</td>\n",
       "      <td>120</td>\n",
       "      <td>80</td>\n",
       "      <td>Normal</td>\n",
       "      <td>Normal</td>\n",
       "      <td>Yes</td>\n",
       "      <td>No</td>\n",
       "      <td>1</td>\n",
       "      <td>0</td>\n",
       "      <td>54.0</td>\n",
       "    </tr>\n",
       "    <tr>\n",
       "      <th>69996</th>\n",
       "      <td>22601</td>\n",
       "      <td>F</td>\n",
       "      <td>158</td>\n",
       "      <td>126</td>\n",
       "      <td>140</td>\n",
       "      <td>90</td>\n",
       "      <td>Above Normal</td>\n",
       "      <td>Above Normal</td>\n",
       "      <td>No</td>\n",
       "      <td>No</td>\n",
       "      <td>1</td>\n",
       "      <td>1</td>\n",
       "      <td>63.0</td>\n",
       "    </tr>\n",
       "    <tr>\n",
       "      <th>69997</th>\n",
       "      <td>19066</td>\n",
       "      <td>M</td>\n",
       "      <td>183</td>\n",
       "      <td>105</td>\n",
       "      <td>180</td>\n",
       "      <td>90</td>\n",
       "      <td>Well Above Normal</td>\n",
       "      <td>Normal</td>\n",
       "      <td>No</td>\n",
       "      <td>Yes</td>\n",
       "      <td>0</td>\n",
       "      <td>1</td>\n",
       "      <td>54.0</td>\n",
       "    </tr>\n",
       "    <tr>\n",
       "      <th>69998</th>\n",
       "      <td>22431</td>\n",
       "      <td>F</td>\n",
       "      <td>163</td>\n",
       "      <td>72</td>\n",
       "      <td>135</td>\n",
       "      <td>80</td>\n",
       "      <td>Normal</td>\n",
       "      <td>Above Normal</td>\n",
       "      <td>No</td>\n",
       "      <td>No</td>\n",
       "      <td>0</td>\n",
       "      <td>1</td>\n",
       "      <td>63.0</td>\n",
       "    </tr>\n",
       "    <tr>\n",
       "      <th>69999</th>\n",
       "      <td>20540</td>\n",
       "      <td>F</td>\n",
       "      <td>170</td>\n",
       "      <td>72</td>\n",
       "      <td>120</td>\n",
       "      <td>80</td>\n",
       "      <td>Above Normal</td>\n",
       "      <td>Normal</td>\n",
       "      <td>No</td>\n",
       "      <td>No</td>\n",
       "      <td>1</td>\n",
       "      <td>0</td>\n",
       "      <td>58.0</td>\n",
       "    </tr>\n",
       "  </tbody>\n",
       "</table>\n",
       "<p>70000 rows × 13 columns</p>\n",
       "</div>"
      ],
      "text/plain": [
       "         age sex  height  weight  ap_hi  ap_lo        cholesterol  \\\n",
       "0      18393   M     168      62    110     80             Normal   \n",
       "1      20228   F     156      85    140     90  Well Above Normal   \n",
       "2      18857   F     165      64    130     70  Well Above Normal   \n",
       "3      17623   M     169      82    150    100             Normal   \n",
       "4      17474   F     156      56    100     60             Normal   \n",
       "...      ...  ..     ...     ...    ...    ...                ...   \n",
       "69995  19240   M     168      76    120     80             Normal   \n",
       "69996  22601   F     158     126    140     90       Above Normal   \n",
       "69997  19066   M     183     105    180     90  Well Above Normal   \n",
       "69998  22431   F     163      72    135     80             Normal   \n",
       "69999  20540   F     170      72    120     80       Above Normal   \n",
       "\n",
       "            glucose smoke alcohol_intake active cardio  age( in years )  \n",
       "0            Normal    No             No      1      0             52.0  \n",
       "1            Normal    No             No      1      1             57.0  \n",
       "2            Normal    No             No      0      1             53.0  \n",
       "3            Normal    No             No      1      1             50.0  \n",
       "4            Normal    No             No      0      0             49.0  \n",
       "...             ...   ...            ...    ...    ...              ...  \n",
       "69995        Normal   Yes             No      1      0             54.0  \n",
       "69996  Above Normal    No             No      1      1             63.0  \n",
       "69997        Normal    No            Yes      0      1             54.0  \n",
       "69998  Above Normal    No             No      0      1             63.0  \n",
       "69999        Normal    No             No      1      0             58.0  \n",
       "\n",
       "[70000 rows x 13 columns]"
      ]
     },
     "execution_count": 27,
     "metadata": {},
     "output_type": "execute_result"
    }
   ],
   "source": [
    "file2_df"
   ]
  },
  {
   "cell_type": "code",
   "execution_count": 28,
   "metadata": {},
   "outputs": [],
   "source": [
    "cardio_df = file2_df[['sex','age( in years )','height','weight','cholesterol','glucose','smoke','alcohol_intake','cardio']].sample(200)"
   ]
  },
  {
   "cell_type": "code",
   "execution_count": 29,
   "metadata": {},
   "outputs": [
    {
     "data": {
      "text/html": [
       "<div>\n",
       "<style scoped>\n",
       "    .dataframe tbody tr th:only-of-type {\n",
       "        vertical-align: middle;\n",
       "    }\n",
       "\n",
       "    .dataframe tbody tr th {\n",
       "        vertical-align: top;\n",
       "    }\n",
       "\n",
       "    .dataframe thead th {\n",
       "        text-align: right;\n",
       "    }\n",
       "</style>\n",
       "<table border=\"1\" class=\"dataframe\">\n",
       "  <thead>\n",
       "    <tr style=\"text-align: right;\">\n",
       "      <th></th>\n",
       "      <th>sex</th>\n",
       "      <th>age( in years )</th>\n",
       "      <th>height</th>\n",
       "      <th>weight</th>\n",
       "      <th>cholesterol</th>\n",
       "      <th>glucose</th>\n",
       "      <th>smoke</th>\n",
       "      <th>alcohol_intake</th>\n",
       "      <th>cardio</th>\n",
       "    </tr>\n",
       "  </thead>\n",
       "  <tbody>\n",
       "    <tr>\n",
       "      <th>33073</th>\n",
       "      <td>M</td>\n",
       "      <td>41.0</td>\n",
       "      <td>170</td>\n",
       "      <td>74</td>\n",
       "      <td>Normal</td>\n",
       "      <td>Normal</td>\n",
       "      <td>No</td>\n",
       "      <td>No</td>\n",
       "      <td>0</td>\n",
       "    </tr>\n",
       "    <tr>\n",
       "      <th>23890</th>\n",
       "      <td>F</td>\n",
       "      <td>51.0</td>\n",
       "      <td>165</td>\n",
       "      <td>65</td>\n",
       "      <td>Normal</td>\n",
       "      <td>Normal</td>\n",
       "      <td>No</td>\n",
       "      <td>No</td>\n",
       "      <td>1</td>\n",
       "    </tr>\n",
       "    <tr>\n",
       "      <th>47030</th>\n",
       "      <td>F</td>\n",
       "      <td>62.0</td>\n",
       "      <td>155</td>\n",
       "      <td>57</td>\n",
       "      <td>Above Normal</td>\n",
       "      <td>Normal</td>\n",
       "      <td>No</td>\n",
       "      <td>No</td>\n",
       "      <td>1</td>\n",
       "    </tr>\n",
       "    <tr>\n",
       "      <th>30018</th>\n",
       "      <td>F</td>\n",
       "      <td>56.0</td>\n",
       "      <td>159</td>\n",
       "      <td>81</td>\n",
       "      <td>Normal</td>\n",
       "      <td>Normal</td>\n",
       "      <td>No</td>\n",
       "      <td>No</td>\n",
       "      <td>1</td>\n",
       "    </tr>\n",
       "    <tr>\n",
       "      <th>66651</th>\n",
       "      <td>M</td>\n",
       "      <td>53.0</td>\n",
       "      <td>178</td>\n",
       "      <td>104</td>\n",
       "      <td>Normal</td>\n",
       "      <td>Normal</td>\n",
       "      <td>No</td>\n",
       "      <td>No</td>\n",
       "      <td>1</td>\n",
       "    </tr>\n",
       "    <tr>\n",
       "      <th>...</th>\n",
       "      <td>...</td>\n",
       "      <td>...</td>\n",
       "      <td>...</td>\n",
       "      <td>...</td>\n",
       "      <td>...</td>\n",
       "      <td>...</td>\n",
       "      <td>...</td>\n",
       "      <td>...</td>\n",
       "      <td>...</td>\n",
       "    </tr>\n",
       "    <tr>\n",
       "      <th>37749</th>\n",
       "      <td>F</td>\n",
       "      <td>62.0</td>\n",
       "      <td>164</td>\n",
       "      <td>67</td>\n",
       "      <td>Normal</td>\n",
       "      <td>Normal</td>\n",
       "      <td>No</td>\n",
       "      <td>No</td>\n",
       "      <td>1</td>\n",
       "    </tr>\n",
       "    <tr>\n",
       "      <th>66565</th>\n",
       "      <td>M</td>\n",
       "      <td>63.0</td>\n",
       "      <td>160</td>\n",
       "      <td>80</td>\n",
       "      <td>Normal</td>\n",
       "      <td>Normal</td>\n",
       "      <td>No</td>\n",
       "      <td>No</td>\n",
       "      <td>1</td>\n",
       "    </tr>\n",
       "    <tr>\n",
       "      <th>33910</th>\n",
       "      <td>F</td>\n",
       "      <td>41.0</td>\n",
       "      <td>150</td>\n",
       "      <td>65</td>\n",
       "      <td>Normal</td>\n",
       "      <td>Normal</td>\n",
       "      <td>No</td>\n",
       "      <td>No</td>\n",
       "      <td>0</td>\n",
       "    </tr>\n",
       "    <tr>\n",
       "      <th>43053</th>\n",
       "      <td>M</td>\n",
       "      <td>64.0</td>\n",
       "      <td>170</td>\n",
       "      <td>88</td>\n",
       "      <td>Well Above Normal</td>\n",
       "      <td>Well Above Normal</td>\n",
       "      <td>No</td>\n",
       "      <td>No</td>\n",
       "      <td>1</td>\n",
       "    </tr>\n",
       "    <tr>\n",
       "      <th>41783</th>\n",
       "      <td>F</td>\n",
       "      <td>43.0</td>\n",
       "      <td>143</td>\n",
       "      <td>64</td>\n",
       "      <td>Normal</td>\n",
       "      <td>Normal</td>\n",
       "      <td>No</td>\n",
       "      <td>No</td>\n",
       "      <td>0</td>\n",
       "    </tr>\n",
       "  </tbody>\n",
       "</table>\n",
       "<p>200 rows × 9 columns</p>\n",
       "</div>"
      ],
      "text/plain": [
       "      sex  age( in years )  height  weight        cholesterol  \\\n",
       "33073   M             41.0     170      74             Normal   \n",
       "23890   F             51.0     165      65             Normal   \n",
       "47030   F             62.0     155      57       Above Normal   \n",
       "30018   F             56.0     159      81             Normal   \n",
       "66651   M             53.0     178     104             Normal   \n",
       "...    ..              ...     ...     ...                ...   \n",
       "37749   F             62.0     164      67             Normal   \n",
       "66565   M             63.0     160      80             Normal   \n",
       "33910   F             41.0     150      65             Normal   \n",
       "43053   M             64.0     170      88  Well Above Normal   \n",
       "41783   F             43.0     143      64             Normal   \n",
       "\n",
       "                 glucose smoke alcohol_intake cardio  \n",
       "33073             Normal    No             No      0  \n",
       "23890             Normal    No             No      1  \n",
       "47030             Normal    No             No      1  \n",
       "30018             Normal    No             No      1  \n",
       "66651             Normal    No             No      1  \n",
       "...                  ...   ...            ...    ...  \n",
       "37749             Normal    No             No      1  \n",
       "66565             Normal    No             No      1  \n",
       "33910             Normal    No             No      0  \n",
       "43053  Well Above Normal    No             No      1  \n",
       "41783             Normal    No             No      0  \n",
       "\n",
       "[200 rows x 9 columns]"
      ]
     },
     "execution_count": 29,
     "metadata": {},
     "output_type": "execute_result"
    }
   ],
   "source": [
    "cardio_df"
   ]
  },
  {
   "cell_type": "code",
   "execution_count": 30,
   "metadata": {},
   "outputs": [],
   "source": [
    "import jovian"
   ]
  },
  {
   "cell_type": "code",
   "execution_count": 31,
   "metadata": {},
   "outputs": [
    {
     "data": {
      "application/javascript": [
       "window.require && require([\"base/js/namespace\"],function(Jupyter){Jupyter.notebook.save_checkpoint()})"
      ],
      "text/plain": [
       "<IPython.core.display.Javascript object>"
      ]
     },
     "metadata": {},
     "output_type": "display_data"
    },
    {
     "name": "stdout",
     "output_type": "stream",
     "text": [
      "[jovian] Attempting to save notebook..\u001b[0m\n",
      "[jovian] Updating notebook \"ayshaasif14/heart-diseases-data-analysis\" on https://jovian.ml/\u001b[0m\n",
      "[jovian] Uploading notebook..\u001b[0m\n",
      "[jovian] Capturing environment..\u001b[0m\n",
      "[jovian] Committed successfully! https://jovian.ml/ayshaasif14/heart-diseases-data-analysis\u001b[0m\n"
     ]
    },
    {
     "data": {
      "text/plain": [
       "'https://jovian.ml/ayshaasif14/heart-diseases-data-analysis'"
      ]
     },
     "execution_count": 31,
     "metadata": {},
     "output_type": "execute_result"
    }
   ],
   "source": [
    "jovian.commit()"
   ]
  },
  {
   "cell_type": "markdown",
   "metadata": {},
   "source": [
    "## Exploratory Analysis and Visualization\n",
    "\n"
   ]
  },
  {
   "cell_type": "markdown",
   "metadata": {},
   "source": [
    "The dataset heart_df consists  303 records of patients with and without any heart disease. It consists of 5 columns : age,sex,cholestrol levels,chestpain,target.\n",
    "The severity of chest pain is given in numeric values from 0 to 4. 0 denoting the absence of any pain and so on.\n",
    "Target shows the presence of heart disease:\n",
    "- 0 means absence of  heart disease\n",
    "- 1 means presence of  heart disease\n"
   ]
  },
  {
   "cell_type": "markdown",
   "metadata": {},
   "source": [
    "To understand about the variation and co-relation of heart ,lets look into the demographics."
   ]
  },
  {
   "cell_type": "code",
   "execution_count": 32,
   "metadata": {},
   "outputs": [],
   "source": [
    "import seaborn as sns\n",
    "import matplotlib\n",
    "import matplotlib.pyplot as plt\n",
    "%matplotlib inline\n",
    "import numpy as np\n",
    "\n",
    "\n"
   ]
  },
  {
   "cell_type": "markdown",
   "metadata": {},
   "source": [
    "# AGE\n",
    "\n",
    "Age is a serious factor when it comes to health .The ages of the people in this dataset-heart varies from 30 to 63.\n",
    "To elaborate and explain the co-relation of heart disease with age factor effectively, lets visualize the same:\n",
    "\n",
    "\n"
   ]
  },
  {
   "cell_type": "code",
   "execution_count": 33,
   "metadata": {},
   "outputs": [],
   "source": [
    "plt.rcParams[\"figure.figsize\"] = [15,5]"
   ]
  },
  {
   "cell_type": "code",
   "execution_count": 34,
   "metadata": {},
   "outputs": [
    {
     "data": {
      "image/png": "[encoded data removed]",
      "text/plain": [
       "<Figure size 1080x360 with 1 Axes>"
      ]
     },
     "metadata": {
      "needs_background": "light"
     },
     "output_type": "display_data"
    }
   ],
   "source": [
    "df=heart_df.groupby(['age','target']).size()\n",
    "df=df.unstack()\n",
    "df.plot.bar(rot=0);"
   ]
  },
  {
   "cell_type": "markdown",
   "metadata": {},
   "source": [
    "From the barplot ,we can observe the variation of the presence and absence of heart disease with age.\n",
    "we can see that most of the patients suffering from heart diseases belong ages above 54,with max number from the age 58.\n",
    "we can roughly say that as age increases , many become prone to heart diseases."
   ]
  },
  {
   "cell_type": "markdown",
   "metadata": {},
   "source": [
    "As we age, so does our blood vessels. They become less flexible, making it harder for blood to move through them easily. \n",
    "Fatty deposits called plaques also collect along your artery walls and slow the blood flow from the heart. These things, \n",
    "along with poor nutrition and exercise habits, can increase our risk of heart diseases.\n",
    "\n",
    "\n"
   ]
  },
  {
   "cell_type": "markdown",
   "metadata": {},
   "source": [
    "# GENDER\n",
    "There is conisderable variation of heart disease among different genders. For better understandind the difference of presence of heart diseases among males and female ,lets take a look at the graph."
   ]
  },
  {
   "cell_type": "code",
   "execution_count": 35,
   "metadata": {},
   "outputs": [
    {
     "data": {
      "image/png": "[encoded data removed]",
      "text/plain": [
       "<Figure size 1080x360 with 1 Axes>"
      ]
     },
     "metadata": {
      "needs_background": "light"
     },
     "output_type": "display_data"
    }
   ],
   "source": [
    "df1=heart_df.groupby(['sex','target']).size()\n",
    "df1=df1.unstack()\n",
    "df1.plot.bar(rot=0);\n",
    "\n"
   ]
  },
  {
   "cell_type": "markdown",
   "metadata": {},
   "source": [
    "This clearly shows that males are more prone to acquiring heart disease.Taking only gender into consideration\n",
    ",according to researches ,men are twice as prone to get heart diseases than females.This can be due to differences in their \n",
    "coping mechanisms, behavioural and psychological response to stress."
   ]
  },
  {
   "cell_type": "markdown",
   "metadata": {},
   "source": [
    "It was previously assumed only men suffered from heart disease, but this is not TRUE, women and men are both equally prone to\n",
    "heart diseases.it is only that men suffer from heart diseases at an early age than women."
   ]
  },
  {
   "cell_type": "markdown",
   "metadata": {},
   "source": [
    "# Cholesterol level"
   ]
  },
  {
   "cell_type": "markdown",
   "metadata": {},
   "source": [
    "Cholesterol is a waxy substance. In fact,our body needs it to build cells.\n",
    "\n",
    "Cholesterol comes from two sources. Our liver makes all the cholesterol we need. The remainder of the cholesterol in your body comes from foods derived from animals. For example, meat, poultry and full-fat dairy products all contain cholesterol, called dietary cholesterol.\n",
    "\n",
    "Those same foods are high in saturated and trans fats. Those fats cause your liver to make more cholesterol than it otherwise would. For some people, this added production means they go from a normal cholesterol level to one that’s unhealthy."
   ]
  },
  {
   "cell_type": "markdown",
   "metadata": {},
   "source": [
    "Is the \"normal cholestrol level\" same for people of all age and gender?\n",
    "No.The cholestrol level varies with age and gender."
   ]
  },
  {
   "cell_type": "markdown",
   "metadata": {},
   "source": [
    "\n",
    "### Cholesterol vs Age and Gender"
   ]
  },
  {
   "cell_type": "code",
   "execution_count": 36,
   "metadata": {},
   "outputs": [],
   "source": [
    "plt.rcParams[\"figure.figsize\"] = [20,5]"
   ]
  },
  {
   "cell_type": "code",
   "execution_count": 37,
   "metadata": {},
   "outputs": [
    {
     "data": {
      "image/png": "[encoded data removed]",
      "text/plain": [
       "<Figure size 1440x360 with 1 Axes>"
      ]
     },
     "metadata": {
      "needs_background": "light"
     },
     "output_type": "display_data"
    }
   ],
   "source": [
    "sns.barplot('age','cholesterol',hue='sex',data=heart_df);"
   ]
  },
  {
   "cell_type": "markdown",
   "metadata": {},
   "source": [
    "The average cholesterol level increases as we age.\n",
    "Because your body's chemistry changes as you age, your risk of high cholesterol climbs.\n",
    "For instance, as you age, your liver becomes less able to remove LDL cholesterol."
   ]
  },
  {
   "cell_type": "markdown",
   "metadata": {},
   "source": [
    "While younger men are more prone to developing high cholesterol, a higher proportion of women than men have elevated cholesterol levels after they reach menopause."
   ]
  },
  {
   "cell_type": "markdown",
   "metadata": {},
   "source": [
    "Excess sugar is known to contribute to obesity, diabetes, and other conditions linked to heart diseases."
   ]
  },
  {
   "cell_type": "markdown",
   "metadata": {},
   "source": [
    "## Smoke and Cholesterol level"
   ]
  },
  {
   "cell_type": "code",
   "execution_count": 38,
   "metadata": {},
   "outputs": [
    {
     "data": {
      "image/png": "[encoded data removed]",
      "text/plain": [
       "<Figure size 1440x360 with 1 Axes>"
      ]
     },
     "metadata": {
      "needs_background": "light"
     },
     "output_type": "display_data"
    }
   ],
   "source": [
    "df1=cardio_df.groupby(['smoke','cholesterol']).size()\n",
    "df1=df1.unstack()\n",
    "df1.plot.bar(rot=0);\n"
   ]
  },
  {
   "cell_type": "markdown",
   "metadata": {},
   "source": [
    "The above shown bar plot shows Number of people (y-axis) with their respective cholesterol level vs whether if they\n",
    "smoke: Yes and No(x-axis).This bar plot shows that very few number of people who smoke have normal cholesterol levels,\n",
    "whereas many who do not smoke have Normal CHOLESTEROL LEVEL."
   ]
  },
  {
   "cell_type": "markdown",
   "metadata": {},
   "source": [
    "##  Alcohol "
   ]
  },
  {
   "cell_type": "code",
   "execution_count": 39,
   "metadata": {},
   "outputs": [
    {
     "data": {
      "image/png": "[encoded data removed]",
      "text/plain": [
       "<Figure size 1440x360 with 1 Axes>"
      ]
     },
     "metadata": {
      "needs_background": "light"
     },
     "output_type": "display_data"
    }
   ],
   "source": [
    "df1=cardio_df.groupby(['alcohol_intake','cholesterol']).size()\n",
    "df1=df1.unstack()\n",
    "df1.plot.bar(rot=0);\n"
   ]
  },
  {
   "cell_type": "markdown",
   "metadata": {},
   "source": [
    "Heavy drinking is linked to a number of poor health outcomes, including heart conditions. Excessive alcohol intake can lead to high blood pressure, heart failure or stroke. Excessive drinking can also contribute to cardiomyopathy, a disorder that affects the heart muscle."
   ]
  },
  {
   "cell_type": "code",
   "execution_count": 40,
   "metadata": {},
   "outputs": [],
   "source": [
    "import jovian"
   ]
  },
  {
   "cell_type": "code",
   "execution_count": 41,
   "metadata": {},
   "outputs": [
    {
     "data": {
      "application/javascript": [
       "window.require && require([\"base/js/namespace\"],function(Jupyter){Jupyter.notebook.save_checkpoint()})"
      ],
      "text/plain": [
       "<IPython.core.display.Javascript object>"
      ]
     },
     "metadata": {},
     "output_type": "display_data"
    },
    {
     "name": "stdout",
     "output_type": "stream",
     "text": [
      "[jovian] Attempting to save notebook..\u001b[0m\n",
      "[jovian] Updating notebook \"ayshaasif14/heart-diseases-data-analysis\" on https://jovian.ml/\u001b[0m\n",
      "[jovian] Uploading notebook..\u001b[0m\n",
      "[jovian] Capturing environment..\u001b[0m\n",
      "[jovian] Committed successfully! https://jovian.ml/ayshaasif14/heart-diseases-data-analysis\u001b[0m\n"
     ]
    },
    {
     "data": {
      "text/plain": [
       "'https://jovian.ml/ayshaasif14/heart-diseases-data-analysis'"
      ]
     },
     "execution_count": 41,
     "metadata": {},
     "output_type": "execute_result"
    }
   ],
   "source": [
    "jovian.commit()"
   ]
  },
  {
   "cell_type": "markdown",
   "metadata": {},
   "source": [
    "## Asking and Answering Questions\n",
    "\n",
    "Lets look into some questions to clarify any confusion or myths regarding heart diseases."
   ]
  },
  {
   "cell_type": "markdown",
   "metadata": {},
   "source": [
    "#### Q. Does Sharp Chest pain always mean high cholesterol and an onset of heart disease?"
   ]
  },
  {
   "cell_type": "code",
   "execution_count": 42,
   "metadata": {
    "scrolled": true
   },
   "outputs": [
    {
     "data": {
      "text/html": [
       "<div>\n",
       "<style scoped>\n",
       "    .dataframe tbody tr th:only-of-type {\n",
       "        vertical-align: middle;\n",
       "    }\n",
       "\n",
       "    .dataframe tbody tr th {\n",
       "        vertical-align: top;\n",
       "    }\n",
       "\n",
       "    .dataframe thead th {\n",
       "        text-align: right;\n",
       "    }\n",
       "</style>\n",
       "<table border=\"1\" class=\"dataframe\">\n",
       "  <thead>\n",
       "    <tr style=\"text-align: right;\">\n",
       "      <th></th>\n",
       "      <th>age</th>\n",
       "      <th>sex</th>\n",
       "      <th>cholesterol</th>\n",
       "      <th>chestpain</th>\n",
       "      <th>target</th>\n",
       "    </tr>\n",
       "  </thead>\n",
       "  <tbody>\n",
       "    <tr>\n",
       "      <th>0</th>\n",
       "      <td>63</td>\n",
       "      <td>M</td>\n",
       "      <td>233</td>\n",
       "      <td>3</td>\n",
       "      <td>0</td>\n",
       "    </tr>\n",
       "    <tr>\n",
       "      <th>13</th>\n",
       "      <td>64</td>\n",
       "      <td>M</td>\n",
       "      <td>211</td>\n",
       "      <td>3</td>\n",
       "      <td>0</td>\n",
       "    </tr>\n",
       "    <tr>\n",
       "      <th>14</th>\n",
       "      <td>58</td>\n",
       "      <td>F</td>\n",
       "      <td>283</td>\n",
       "      <td>3</td>\n",
       "      <td>0</td>\n",
       "    </tr>\n",
       "    <tr>\n",
       "      <th>17</th>\n",
       "      <td>66</td>\n",
       "      <td>F</td>\n",
       "      <td>226</td>\n",
       "      <td>3</td>\n",
       "      <td>0</td>\n",
       "    </tr>\n",
       "    <tr>\n",
       "      <th>19</th>\n",
       "      <td>69</td>\n",
       "      <td>F</td>\n",
       "      <td>239</td>\n",
       "      <td>3</td>\n",
       "      <td>0</td>\n",
       "    </tr>\n",
       "    <tr>\n",
       "      <th>24</th>\n",
       "      <td>40</td>\n",
       "      <td>M</td>\n",
       "      <td>199</td>\n",
       "      <td>3</td>\n",
       "      <td>0</td>\n",
       "    </tr>\n",
       "    <tr>\n",
       "      <th>34</th>\n",
       "      <td>51</td>\n",
       "      <td>M</td>\n",
       "      <td>213</td>\n",
       "      <td>3</td>\n",
       "      <td>0</td>\n",
       "    </tr>\n",
       "    <tr>\n",
       "      <th>58</th>\n",
       "      <td>34</td>\n",
       "      <td>M</td>\n",
       "      <td>182</td>\n",
       "      <td>3</td>\n",
       "      <td>0</td>\n",
       "    </tr>\n",
       "    <tr>\n",
       "      <th>62</th>\n",
       "      <td>52</td>\n",
       "      <td>M</td>\n",
       "      <td>186</td>\n",
       "      <td>3</td>\n",
       "      <td>0</td>\n",
       "    </tr>\n",
       "    <tr>\n",
       "      <th>83</th>\n",
       "      <td>52</td>\n",
       "      <td>M</td>\n",
       "      <td>298</td>\n",
       "      <td>3</td>\n",
       "      <td>0</td>\n",
       "    </tr>\n",
       "    <tr>\n",
       "      <th>100</th>\n",
       "      <td>42</td>\n",
       "      <td>M</td>\n",
       "      <td>244</td>\n",
       "      <td>3</td>\n",
       "      <td>0</td>\n",
       "    </tr>\n",
       "    <tr>\n",
       "      <th>101</th>\n",
       "      <td>59</td>\n",
       "      <td>M</td>\n",
       "      <td>270</td>\n",
       "      <td>3</td>\n",
       "      <td>0</td>\n",
       "    </tr>\n",
       "    <tr>\n",
       "      <th>106</th>\n",
       "      <td>69</td>\n",
       "      <td>M</td>\n",
       "      <td>234</td>\n",
       "      <td>3</td>\n",
       "      <td>0</td>\n",
       "    </tr>\n",
       "    <tr>\n",
       "      <th>117</th>\n",
       "      <td>56</td>\n",
       "      <td>M</td>\n",
       "      <td>193</td>\n",
       "      <td>3</td>\n",
       "      <td>0</td>\n",
       "    </tr>\n",
       "    <tr>\n",
       "      <th>147</th>\n",
       "      <td>60</td>\n",
       "      <td>F</td>\n",
       "      <td>240</td>\n",
       "      <td>3</td>\n",
       "      <td>0</td>\n",
       "    </tr>\n",
       "    <tr>\n",
       "      <th>152</th>\n",
       "      <td>64</td>\n",
       "      <td>M</td>\n",
       "      <td>227</td>\n",
       "      <td>3</td>\n",
       "      <td>0</td>\n",
       "    </tr>\n",
       "  </tbody>\n",
       "</table>\n",
       "</div>"
      ],
      "text/plain": [
       "     age sex  cholesterol  chestpain target\n",
       "0     63   M          233          3      0\n",
       "13    64   M          211          3      0\n",
       "14    58   F          283          3      0\n",
       "17    66   F          226          3      0\n",
       "19    69   F          239          3      0\n",
       "24    40   M          199          3      0\n",
       "34    51   M          213          3      0\n",
       "58    34   M          182          3      0\n",
       "62    52   M          186          3      0\n",
       "83    52   M          298          3      0\n",
       "100   42   M          244          3      0\n",
       "101   59   M          270          3      0\n",
       "106   69   M          234          3      0\n",
       "117   56   M          193          3      0\n",
       "147   60   F          240          3      0\n",
       "152   64   M          227          3      0"
      ]
     },
     "execution_count": 42,
     "metadata": {},
     "output_type": "execute_result"
    }
   ],
   "source": [
    "heart_df[(heart_df.chestpain == 3) & (heart_df.target == '0')]"
   ]
  },
  {
   "cell_type": "markdown",
   "metadata": {},
   "source": [
    "In most cases sharp chest pain is not a result of heart diesease.The above shown data shows that it is \n",
    "not necessary for a person having chest pain be suffering fro heart disease or have high cholesterol."
   ]
  },
  {
   "cell_type": "markdown",
   "metadata": {},
   "source": [
    "#### Q.Is high cholesterol the reason of heart diseases?"
   ]
  },
  {
   "cell_type": "code",
   "execution_count": 43,
   "metadata": {},
   "outputs": [
    {
     "data": {
      "text/html": [
       "<div>\n",
       "<style scoped>\n",
       "    .dataframe tbody tr th:only-of-type {\n",
       "        vertical-align: middle;\n",
       "    }\n",
       "\n",
       "    .dataframe tbody tr th {\n",
       "        vertical-align: top;\n",
       "    }\n",
       "\n",
       "    .dataframe thead th {\n",
       "        text-align: right;\n",
       "    }\n",
       "</style>\n",
       "<table border=\"1\" class=\"dataframe\">\n",
       "  <thead>\n",
       "    <tr style=\"text-align: right;\">\n",
       "      <th></th>\n",
       "      <th>cholesterol</th>\n",
       "      <th>glucose</th>\n",
       "      <th>cardio</th>\n",
       "    </tr>\n",
       "  </thead>\n",
       "  <tbody>\n",
       "    <tr>\n",
       "      <th>13963</th>\n",
       "      <td>Well Above Normal</td>\n",
       "      <td>Well Above Normal</td>\n",
       "      <td>1</td>\n",
       "    </tr>\n",
       "    <tr>\n",
       "      <th>5656</th>\n",
       "      <td>Well Above Normal</td>\n",
       "      <td>Normal</td>\n",
       "      <td>0</td>\n",
       "    </tr>\n",
       "    <tr>\n",
       "      <th>47531</th>\n",
       "      <td>Well Above Normal</td>\n",
       "      <td>Above Normal</td>\n",
       "      <td>0</td>\n",
       "    </tr>\n",
       "    <tr>\n",
       "      <th>30601</th>\n",
       "      <td>Well Above Normal</td>\n",
       "      <td>Well Above Normal</td>\n",
       "      <td>1</td>\n",
       "    </tr>\n",
       "    <tr>\n",
       "      <th>18216</th>\n",
       "      <td>Well Above Normal</td>\n",
       "      <td>Normal</td>\n",
       "      <td>1</td>\n",
       "    </tr>\n",
       "    <tr>\n",
       "      <th>58793</th>\n",
       "      <td>Well Above Normal</td>\n",
       "      <td>Normal</td>\n",
       "      <td>0</td>\n",
       "    </tr>\n",
       "    <tr>\n",
       "      <th>67323</th>\n",
       "      <td>Well Above Normal</td>\n",
       "      <td>Normal</td>\n",
       "      <td>1</td>\n",
       "    </tr>\n",
       "    <tr>\n",
       "      <th>6212</th>\n",
       "      <td>Well Above Normal</td>\n",
       "      <td>Above Normal</td>\n",
       "      <td>1</td>\n",
       "    </tr>\n",
       "    <tr>\n",
       "      <th>34546</th>\n",
       "      <td>Well Above Normal</td>\n",
       "      <td>Well Above Normal</td>\n",
       "      <td>1</td>\n",
       "    </tr>\n",
       "    <tr>\n",
       "      <th>28697</th>\n",
       "      <td>Well Above Normal</td>\n",
       "      <td>Well Above Normal</td>\n",
       "      <td>1</td>\n",
       "    </tr>\n",
       "    <tr>\n",
       "      <th>26416</th>\n",
       "      <td>Well Above Normal</td>\n",
       "      <td>Well Above Normal</td>\n",
       "      <td>0</td>\n",
       "    </tr>\n",
       "    <tr>\n",
       "      <th>47526</th>\n",
       "      <td>Well Above Normal</td>\n",
       "      <td>Well Above Normal</td>\n",
       "      <td>1</td>\n",
       "    </tr>\n",
       "    <tr>\n",
       "      <th>49764</th>\n",
       "      <td>Well Above Normal</td>\n",
       "      <td>Normal</td>\n",
       "      <td>1</td>\n",
       "    </tr>\n",
       "    <tr>\n",
       "      <th>4356</th>\n",
       "      <td>Well Above Normal</td>\n",
       "      <td>Well Above Normal</td>\n",
       "      <td>1</td>\n",
       "    </tr>\n",
       "    <tr>\n",
       "      <th>6738</th>\n",
       "      <td>Well Above Normal</td>\n",
       "      <td>Well Above Normal</td>\n",
       "      <td>1</td>\n",
       "    </tr>\n",
       "    <tr>\n",
       "      <th>1959</th>\n",
       "      <td>Well Above Normal</td>\n",
       "      <td>Normal</td>\n",
       "      <td>1</td>\n",
       "    </tr>\n",
       "    <tr>\n",
       "      <th>5732</th>\n",
       "      <td>Well Above Normal</td>\n",
       "      <td>Normal</td>\n",
       "      <td>0</td>\n",
       "    </tr>\n",
       "    <tr>\n",
       "      <th>35292</th>\n",
       "      <td>Well Above Normal</td>\n",
       "      <td>Normal</td>\n",
       "      <td>1</td>\n",
       "    </tr>\n",
       "    <tr>\n",
       "      <th>31314</th>\n",
       "      <td>Well Above Normal</td>\n",
       "      <td>Well Above Normal</td>\n",
       "      <td>1</td>\n",
       "    </tr>\n",
       "    <tr>\n",
       "      <th>42077</th>\n",
       "      <td>Well Above Normal</td>\n",
       "      <td>Normal</td>\n",
       "      <td>1</td>\n",
       "    </tr>\n",
       "    <tr>\n",
       "      <th>19628</th>\n",
       "      <td>Well Above Normal</td>\n",
       "      <td>Above Normal</td>\n",
       "      <td>1</td>\n",
       "    </tr>\n",
       "    <tr>\n",
       "      <th>32676</th>\n",
       "      <td>Well Above Normal</td>\n",
       "      <td>Well Above Normal</td>\n",
       "      <td>1</td>\n",
       "    </tr>\n",
       "    <tr>\n",
       "      <th>10838</th>\n",
       "      <td>Well Above Normal</td>\n",
       "      <td>Well Above Normal</td>\n",
       "      <td>1</td>\n",
       "    </tr>\n",
       "    <tr>\n",
       "      <th>57454</th>\n",
       "      <td>Well Above Normal</td>\n",
       "      <td>Well Above Normal</td>\n",
       "      <td>1</td>\n",
       "    </tr>\n",
       "    <tr>\n",
       "      <th>43053</th>\n",
       "      <td>Well Above Normal</td>\n",
       "      <td>Well Above Normal</td>\n",
       "      <td>1</td>\n",
       "    </tr>\n",
       "  </tbody>\n",
       "</table>\n",
       "</div>"
      ],
      "text/plain": [
       "             cholesterol            glucose cardio\n",
       "13963  Well Above Normal  Well Above Normal      1\n",
       "5656   Well Above Normal             Normal      0\n",
       "47531  Well Above Normal       Above Normal      0\n",
       "30601  Well Above Normal  Well Above Normal      1\n",
       "18216  Well Above Normal             Normal      1\n",
       "58793  Well Above Normal             Normal      0\n",
       "67323  Well Above Normal             Normal      1\n",
       "6212   Well Above Normal       Above Normal      1\n",
       "34546  Well Above Normal  Well Above Normal      1\n",
       "28697  Well Above Normal  Well Above Normal      1\n",
       "26416  Well Above Normal  Well Above Normal      0\n",
       "47526  Well Above Normal  Well Above Normal      1\n",
       "49764  Well Above Normal             Normal      1\n",
       "4356   Well Above Normal  Well Above Normal      1\n",
       "6738   Well Above Normal  Well Above Normal      1\n",
       "1959   Well Above Normal             Normal      1\n",
       "5732   Well Above Normal             Normal      0\n",
       "35292  Well Above Normal             Normal      1\n",
       "31314  Well Above Normal  Well Above Normal      1\n",
       "42077  Well Above Normal             Normal      1\n",
       "19628  Well Above Normal       Above Normal      1\n",
       "32676  Well Above Normal  Well Above Normal      1\n",
       "10838  Well Above Normal  Well Above Normal      1\n",
       "57454  Well Above Normal  Well Above Normal      1\n",
       "43053  Well Above Normal  Well Above Normal      1"
      ]
     },
     "execution_count": 43,
     "metadata": {},
     "output_type": "execute_result"
    }
   ],
   "source": [
    "cardio_df[cardio_df.cholesterol == 'Well Above Normal'][['cholesterol','glucose','cardio']]"
   ]
  },
  {
   "cell_type": "code",
   "execution_count": 44,
   "metadata": {},
   "outputs": [
    {
     "data": {
      "text/plain": [
       "age             77\n",
       "sex              M\n",
       "cholesterol    564\n",
       "chestpain        3\n",
       "target           1\n",
       "dtype: object"
      ]
     },
     "execution_count": 44,
     "metadata": {},
     "output_type": "execute_result"
    }
   ],
   "source": [
    "heart_df[heart_df.cholesterol > 250].max()"
   ]
  },
  {
   "cell_type": "markdown",
   "metadata": {},
   "source": [
    "No , it is not necessary for a person suffering from heart disease to have high cholesterol or vise-versa.New international study shows that LDL-cholesterol is unable to predict future cardiovascular events and fails to identify those coronary heart disease patients who are at the highest risk and who would benefit most from additional attention and preventive action.But cholesterol is a mojor risk factor."
   ]
  },
  {
   "cell_type": "markdown",
   "metadata": {},
   "source": [
    "#### Q.What are highest levels of cholesterol in the data provided?"
   ]
  },
  {
   "cell_type": "code",
   "execution_count": 45,
   "metadata": {},
   "outputs": [
    {
     "data": {
      "text/html": [
       "<div>\n",
       "<style scoped>\n",
       "    .dataframe tbody tr th:only-of-type {\n",
       "        vertical-align: middle;\n",
       "    }\n",
       "\n",
       "    .dataframe tbody tr th {\n",
       "        vertical-align: top;\n",
       "    }\n",
       "\n",
       "    .dataframe thead th {\n",
       "        text-align: right;\n",
       "    }\n",
       "</style>\n",
       "<table border=\"1\" class=\"dataframe\">\n",
       "  <thead>\n",
       "    <tr style=\"text-align: right;\">\n",
       "      <th></th>\n",
       "      <th>cholesterol</th>\n",
       "      <th>target</th>\n",
       "    </tr>\n",
       "  </thead>\n",
       "  <tbody>\n",
       "    <tr>\n",
       "      <th>85</th>\n",
       "      <td>564</td>\n",
       "      <td>0</td>\n",
       "    </tr>\n",
       "    <tr>\n",
       "      <th>28</th>\n",
       "      <td>417</td>\n",
       "      <td>0</td>\n",
       "    </tr>\n",
       "    <tr>\n",
       "      <th>246</th>\n",
       "      <td>409</td>\n",
       "      <td>1</td>\n",
       "    </tr>\n",
       "    <tr>\n",
       "      <th>220</th>\n",
       "      <td>407</td>\n",
       "      <td>1</td>\n",
       "    </tr>\n",
       "    <tr>\n",
       "      <th>96</th>\n",
       "      <td>394</td>\n",
       "      <td>0</td>\n",
       "    </tr>\n",
       "    <tr>\n",
       "      <th>39</th>\n",
       "      <td>360</td>\n",
       "      <td>0</td>\n",
       "    </tr>\n",
       "    <tr>\n",
       "      <th>4</th>\n",
       "      <td>354</td>\n",
       "      <td>0</td>\n",
       "    </tr>\n",
       "    <tr>\n",
       "      <th>180</th>\n",
       "      <td>353</td>\n",
       "      <td>1</td>\n",
       "    </tr>\n",
       "    <tr>\n",
       "      <th>161</th>\n",
       "      <td>342</td>\n",
       "      <td>0</td>\n",
       "    </tr>\n",
       "    <tr>\n",
       "      <th>215</th>\n",
       "      <td>341</td>\n",
       "      <td>1</td>\n",
       "    </tr>\n",
       "  </tbody>\n",
       "</table>\n",
       "</div>"
      ],
      "text/plain": [
       "     cholesterol target\n",
       "85           564      0\n",
       "28           417      0\n",
       "246          409      1\n",
       "220          407      1\n",
       "96           394      0\n",
       "39           360      0\n",
       "4            354      0\n",
       "180          353      1\n",
       "161          342      0\n",
       "215          341      1"
      ]
     },
     "execution_count": 45,
     "metadata": {},
     "output_type": "execute_result"
    }
   ],
   "source": [
    "heart_df[['cholesterol','target']].sort_values('cholesterol',ascending=False).head(10)"
   ]
  },
  {
   "cell_type": "markdown",
   "metadata": {},
   "source": [
    "From this data we can conclude high cholesterol do not necessarily mean ,You suffer from heart disease and vice versa. A person having cholesterol of 564, does not suffer from heart disease , but a person with 341 cholesterl does suffer.\n",
    "Our body consists of 2 types of cholesterol :\n",
    "-LDL or \"Bad Cholesterol \"\n",
    "-HDL or \"Good Cholesterol\"\n",
    "\n",
    "The cholesterol levels are evaluated taking of these values into consideration .\n",
    "\n",
    "Too much of LDL is harmful for our body and can lead to Heart Diseases.and it is encouraged to keep HDL cholesterol in sufficient amount."
   ]
  },
  {
   "cell_type": "markdown",
   "metadata": {},
   "source": [
    "#### Q. How many patients have abnormal glucose level and abnormal cholesterol level and  consume alcohol or  smoke?"
   ]
  },
  {
   "cell_type": "code",
   "execution_count": 46,
   "metadata": {},
   "outputs": [
    {
     "data": {
      "text/html": [
       "<div>\n",
       "<style scoped>\n",
       "    .dataframe tbody tr th:only-of-type {\n",
       "        vertical-align: middle;\n",
       "    }\n",
       "\n",
       "    .dataframe tbody tr th {\n",
       "        vertical-align: top;\n",
       "    }\n",
       "\n",
       "    .dataframe thead th {\n",
       "        text-align: right;\n",
       "    }\n",
       "</style>\n",
       "<table border=\"1\" class=\"dataframe\">\n",
       "  <thead>\n",
       "    <tr style=\"text-align: right;\">\n",
       "      <th></th>\n",
       "      <th>sex</th>\n",
       "      <th>age( in years )</th>\n",
       "      <th>height</th>\n",
       "      <th>weight</th>\n",
       "      <th>cholesterol</th>\n",
       "      <th>glucose</th>\n",
       "      <th>smoke</th>\n",
       "      <th>alcohol_intake</th>\n",
       "      <th>cardio</th>\n",
       "    </tr>\n",
       "  </thead>\n",
       "  <tbody>\n",
       "    <tr>\n",
       "      <th>51232</th>\n",
       "      <td>M</td>\n",
       "      <td>53.0</td>\n",
       "      <td>171</td>\n",
       "      <td>90</td>\n",
       "      <td>Normal</td>\n",
       "      <td>Well Above Normal</td>\n",
       "      <td>Yes</td>\n",
       "      <td>No</td>\n",
       "      <td>0</td>\n",
       "    </tr>\n",
       "    <tr>\n",
       "      <th>54286</th>\n",
       "      <td>M</td>\n",
       "      <td>61.0</td>\n",
       "      <td>174</td>\n",
       "      <td>80</td>\n",
       "      <td>Above Normal</td>\n",
       "      <td>Normal</td>\n",
       "      <td>Yes</td>\n",
       "      <td>No</td>\n",
       "      <td>1</td>\n",
       "    </tr>\n",
       "    <tr>\n",
       "      <th>14733</th>\n",
       "      <td>M</td>\n",
       "      <td>49.0</td>\n",
       "      <td>170</td>\n",
       "      <td>72</td>\n",
       "      <td>Normal</td>\n",
       "      <td>Normal</td>\n",
       "      <td>Yes</td>\n",
       "      <td>No</td>\n",
       "      <td>1</td>\n",
       "    </tr>\n",
       "    <tr>\n",
       "      <th>5258</th>\n",
       "      <td>M</td>\n",
       "      <td>62.0</td>\n",
       "      <td>164</td>\n",
       "      <td>69</td>\n",
       "      <td>Normal</td>\n",
       "      <td>Normal</td>\n",
       "      <td>Yes</td>\n",
       "      <td>No</td>\n",
       "      <td>0</td>\n",
       "    </tr>\n",
       "    <tr>\n",
       "      <th>38282</th>\n",
       "      <td>M</td>\n",
       "      <td>53.0</td>\n",
       "      <td>166</td>\n",
       "      <td>64</td>\n",
       "      <td>Normal</td>\n",
       "      <td>Normal</td>\n",
       "      <td>Yes</td>\n",
       "      <td>No</td>\n",
       "      <td>0</td>\n",
       "    </tr>\n",
       "    <tr>\n",
       "      <th>17899</th>\n",
       "      <td>F</td>\n",
       "      <td>52.0</td>\n",
       "      <td>162</td>\n",
       "      <td>60</td>\n",
       "      <td>Normal</td>\n",
       "      <td>Above Normal</td>\n",
       "      <td>Yes</td>\n",
       "      <td>Yes</td>\n",
       "      <td>0</td>\n",
       "    </tr>\n",
       "    <tr>\n",
       "      <th>31314</th>\n",
       "      <td>M</td>\n",
       "      <td>51.0</td>\n",
       "      <td>158</td>\n",
       "      <td>54</td>\n",
       "      <td>Well Above Normal</td>\n",
       "      <td>Well Above Normal</td>\n",
       "      <td>Yes</td>\n",
       "      <td>Yes</td>\n",
       "      <td>1</td>\n",
       "    </tr>\n",
       "    <tr>\n",
       "      <th>26551</th>\n",
       "      <td>M</td>\n",
       "      <td>61.0</td>\n",
       "      <td>159</td>\n",
       "      <td>73</td>\n",
       "      <td>Normal</td>\n",
       "      <td>Normal</td>\n",
       "      <td>Yes</td>\n",
       "      <td>Yes</td>\n",
       "      <td>0</td>\n",
       "    </tr>\n",
       "    <tr>\n",
       "      <th>44956</th>\n",
       "      <td>M</td>\n",
       "      <td>56.0</td>\n",
       "      <td>175</td>\n",
       "      <td>92</td>\n",
       "      <td>Normal</td>\n",
       "      <td>Normal</td>\n",
       "      <td>Yes</td>\n",
       "      <td>No</td>\n",
       "      <td>1</td>\n",
       "    </tr>\n",
       "    <tr>\n",
       "      <th>36811</th>\n",
       "      <td>F</td>\n",
       "      <td>40.0</td>\n",
       "      <td>171</td>\n",
       "      <td>79</td>\n",
       "      <td>Above Normal</td>\n",
       "      <td>Normal</td>\n",
       "      <td>Yes</td>\n",
       "      <td>No</td>\n",
       "      <td>0</td>\n",
       "    </tr>\n",
       "    <tr>\n",
       "      <th>5918</th>\n",
       "      <td>M</td>\n",
       "      <td>49.0</td>\n",
       "      <td>160</td>\n",
       "      <td>67</td>\n",
       "      <td>Normal</td>\n",
       "      <td>Normal</td>\n",
       "      <td>Yes</td>\n",
       "      <td>No</td>\n",
       "      <td>0</td>\n",
       "    </tr>\n",
       "    <tr>\n",
       "      <th>61268</th>\n",
       "      <td>M</td>\n",
       "      <td>55.0</td>\n",
       "      <td>172</td>\n",
       "      <td>80</td>\n",
       "      <td>Normal</td>\n",
       "      <td>Normal</td>\n",
       "      <td>Yes</td>\n",
       "      <td>No</td>\n",
       "      <td>0</td>\n",
       "    </tr>\n",
       "    <tr>\n",
       "      <th>27155</th>\n",
       "      <td>M</td>\n",
       "      <td>51.0</td>\n",
       "      <td>175</td>\n",
       "      <td>94</td>\n",
       "      <td>Above Normal</td>\n",
       "      <td>Above Normal</td>\n",
       "      <td>Yes</td>\n",
       "      <td>No</td>\n",
       "      <td>1</td>\n",
       "    </tr>\n",
       "  </tbody>\n",
       "</table>\n",
       "</div>"
      ],
      "text/plain": [
       "      sex  age( in years )  height  weight        cholesterol  \\\n",
       "51232   M             53.0     171      90             Normal   \n",
       "54286   M             61.0     174      80       Above Normal   \n",
       "14733   M             49.0     170      72             Normal   \n",
       "5258    M             62.0     164      69             Normal   \n",
       "38282   M             53.0     166      64             Normal   \n",
       "17899   F             52.0     162      60             Normal   \n",
       "31314   M             51.0     158      54  Well Above Normal   \n",
       "26551   M             61.0     159      73             Normal   \n",
       "44956   M             56.0     175      92             Normal   \n",
       "36811   F             40.0     171      79       Above Normal   \n",
       "5918    M             49.0     160      67             Normal   \n",
       "61268   M             55.0     172      80             Normal   \n",
       "27155   M             51.0     175      94       Above Normal   \n",
       "\n",
       "                 glucose smoke alcohol_intake cardio  \n",
       "51232  Well Above Normal   Yes             No      0  \n",
       "54286             Normal   Yes             No      1  \n",
       "14733             Normal   Yes             No      1  \n",
       "5258              Normal   Yes             No      0  \n",
       "38282             Normal   Yes             No      0  \n",
       "17899       Above Normal   Yes            Yes      0  \n",
       "31314  Well Above Normal   Yes            Yes      1  \n",
       "26551             Normal   Yes            Yes      0  \n",
       "44956             Normal   Yes             No      1  \n",
       "36811             Normal   Yes             No      0  \n",
       "5918              Normal   Yes             No      0  \n",
       "61268             Normal   Yes             No      0  \n",
       "27155       Above Normal   Yes             No      1  "
      ]
     },
     "execution_count": 46,
     "metadata": {},
     "output_type": "execute_result"
    }
   ],
   "source": [
    "cardio_df[(cardio_df.cholesterol != 'Normal')\n",
    "          &(cardio_df.glucose != 'Normal') \n",
    "          & (cardio_df.alcohol_intake == 'Yes')\n",
    "          | (cardio_df.smoke =='Yes')]"
   ]
  },
  {
   "cell_type": "markdown",
   "metadata": {},
   "source": [
    "The chemical in tabacoo undoubtedly harms the internal organs of our body and its functioning , including  heart, blood vessels, lungs, eyes, bones, bladder,digestive organs, reproductive organs, mouth. Tabacoo causes the detoriation of blood vessels in the heart and can lead to a disease called atherosclerosis.Any amount of smoking, light snoking or second hand smoking can cause damage to heart and blood vessels."
   ]
  },
  {
   "cell_type": "markdown",
   "metadata": {},
   "source": [
    "###### LETS compare age ,cardio status and BMI level "
   ]
  },
  {
   "cell_type": "markdown",
   "metadata": {},
   "source": [
    "Add a column BMI "
   ]
  },
  {
   "cell_type": "code",
   "execution_count": 47,
   "metadata": {
    "scrolled": false
   },
   "outputs": [],
   "source": [
    "cardio_df['BMI'] = (cardio_df['weight']/(cardio_df['height']*0.01)**2)"
   ]
  },
  {
   "cell_type": "markdown",
   "metadata": {},
   "source": [
    "Categorize BMI values based on their values ."
   ]
  },
  {
   "cell_type": "code",
   "execution_count": 48,
   "metadata": {},
   "outputs": [
    {
     "data": {
      "text/html": [
       "<div>\n",
       "<style scoped>\n",
       "    .dataframe tbody tr th:only-of-type {\n",
       "        vertical-align: middle;\n",
       "    }\n",
       "\n",
       "    .dataframe tbody tr th {\n",
       "        vertical-align: top;\n",
       "    }\n",
       "\n",
       "    .dataframe thead th {\n",
       "        text-align: right;\n",
       "    }\n",
       "</style>\n",
       "<table border=\"1\" class=\"dataframe\">\n",
       "  <thead>\n",
       "    <tr style=\"text-align: right;\">\n",
       "      <th></th>\n",
       "      <th>sex</th>\n",
       "      <th>age( in years )</th>\n",
       "      <th>height</th>\n",
       "      <th>weight</th>\n",
       "      <th>cholesterol</th>\n",
       "      <th>glucose</th>\n",
       "      <th>smoke</th>\n",
       "      <th>alcohol_intake</th>\n",
       "      <th>cardio</th>\n",
       "      <th>BMI</th>\n",
       "      <th>BMI_LEVEL</th>\n",
       "    </tr>\n",
       "  </thead>\n",
       "  <tbody>\n",
       "    <tr>\n",
       "      <th>33073</th>\n",
       "      <td>M</td>\n",
       "      <td>41.0</td>\n",
       "      <td>170</td>\n",
       "      <td>74</td>\n",
       "      <td>Normal</td>\n",
       "      <td>Normal</td>\n",
       "      <td>No</td>\n",
       "      <td>No</td>\n",
       "      <td>0</td>\n",
       "      <td>25.605536</td>\n",
       "      <td>overweight</td>\n",
       "    </tr>\n",
       "    <tr>\n",
       "      <th>23890</th>\n",
       "      <td>F</td>\n",
       "      <td>51.0</td>\n",
       "      <td>165</td>\n",
       "      <td>65</td>\n",
       "      <td>Normal</td>\n",
       "      <td>Normal</td>\n",
       "      <td>No</td>\n",
       "      <td>No</td>\n",
       "      <td>1</td>\n",
       "      <td>23.875115</td>\n",
       "      <td>normal</td>\n",
       "    </tr>\n",
       "    <tr>\n",
       "      <th>47030</th>\n",
       "      <td>F</td>\n",
       "      <td>62.0</td>\n",
       "      <td>155</td>\n",
       "      <td>57</td>\n",
       "      <td>Above Normal</td>\n",
       "      <td>Normal</td>\n",
       "      <td>No</td>\n",
       "      <td>No</td>\n",
       "      <td>1</td>\n",
       "      <td>23.725286</td>\n",
       "      <td>normal</td>\n",
       "    </tr>\n",
       "    <tr>\n",
       "      <th>30018</th>\n",
       "      <td>F</td>\n",
       "      <td>56.0</td>\n",
       "      <td>159</td>\n",
       "      <td>81</td>\n",
       "      <td>Normal</td>\n",
       "      <td>Normal</td>\n",
       "      <td>No</td>\n",
       "      <td>No</td>\n",
       "      <td>1</td>\n",
       "      <td>32.039872</td>\n",
       "      <td>very overweight</td>\n",
       "    </tr>\n",
       "    <tr>\n",
       "      <th>66651</th>\n",
       "      <td>M</td>\n",
       "      <td>53.0</td>\n",
       "      <td>178</td>\n",
       "      <td>104</td>\n",
       "      <td>Normal</td>\n",
       "      <td>Normal</td>\n",
       "      <td>No</td>\n",
       "      <td>No</td>\n",
       "      <td>1</td>\n",
       "      <td>32.824138</td>\n",
       "      <td>very overweight</td>\n",
       "    </tr>\n",
       "    <tr>\n",
       "      <th>...</th>\n",
       "      <td>...</td>\n",
       "      <td>...</td>\n",
       "      <td>...</td>\n",
       "      <td>...</td>\n",
       "      <td>...</td>\n",
       "      <td>...</td>\n",
       "      <td>...</td>\n",
       "      <td>...</td>\n",
       "      <td>...</td>\n",
       "      <td>...</td>\n",
       "      <td>...</td>\n",
       "    </tr>\n",
       "    <tr>\n",
       "      <th>37749</th>\n",
       "      <td>F</td>\n",
       "      <td>62.0</td>\n",
       "      <td>164</td>\n",
       "      <td>67</td>\n",
       "      <td>Normal</td>\n",
       "      <td>Normal</td>\n",
       "      <td>No</td>\n",
       "      <td>No</td>\n",
       "      <td>1</td>\n",
       "      <td>24.910767</td>\n",
       "      <td>normal</td>\n",
       "    </tr>\n",
       "    <tr>\n",
       "      <th>66565</th>\n",
       "      <td>M</td>\n",
       "      <td>63.0</td>\n",
       "      <td>160</td>\n",
       "      <td>80</td>\n",
       "      <td>Normal</td>\n",
       "      <td>Normal</td>\n",
       "      <td>No</td>\n",
       "      <td>No</td>\n",
       "      <td>1</td>\n",
       "      <td>31.250000</td>\n",
       "      <td>very overweight</td>\n",
       "    </tr>\n",
       "    <tr>\n",
       "      <th>33910</th>\n",
       "      <td>F</td>\n",
       "      <td>41.0</td>\n",
       "      <td>150</td>\n",
       "      <td>65</td>\n",
       "      <td>Normal</td>\n",
       "      <td>Normal</td>\n",
       "      <td>No</td>\n",
       "      <td>No</td>\n",
       "      <td>0</td>\n",
       "      <td>28.888889</td>\n",
       "      <td>overweight</td>\n",
       "    </tr>\n",
       "    <tr>\n",
       "      <th>43053</th>\n",
       "      <td>M</td>\n",
       "      <td>64.0</td>\n",
       "      <td>170</td>\n",
       "      <td>88</td>\n",
       "      <td>Well Above Normal</td>\n",
       "      <td>Well Above Normal</td>\n",
       "      <td>No</td>\n",
       "      <td>No</td>\n",
       "      <td>1</td>\n",
       "      <td>30.449827</td>\n",
       "      <td>very overweight</td>\n",
       "    </tr>\n",
       "    <tr>\n",
       "      <th>41783</th>\n",
       "      <td>F</td>\n",
       "      <td>43.0</td>\n",
       "      <td>143</td>\n",
       "      <td>64</td>\n",
       "      <td>Normal</td>\n",
       "      <td>Normal</td>\n",
       "      <td>No</td>\n",
       "      <td>No</td>\n",
       "      <td>0</td>\n",
       "      <td>31.297374</td>\n",
       "      <td>very overweight</td>\n",
       "    </tr>\n",
       "  </tbody>\n",
       "</table>\n",
       "<p>200 rows × 11 columns</p>\n",
       "</div>"
      ],
      "text/plain": [
       "      sex  age( in years )  height  weight        cholesterol  \\\n",
       "33073   M             41.0     170      74             Normal   \n",
       "23890   F             51.0     165      65             Normal   \n",
       "47030   F             62.0     155      57       Above Normal   \n",
       "30018   F             56.0     159      81             Normal   \n",
       "66651   M             53.0     178     104             Normal   \n",
       "...    ..              ...     ...     ...                ...   \n",
       "37749   F             62.0     164      67             Normal   \n",
       "66565   M             63.0     160      80             Normal   \n",
       "33910   F             41.0     150      65             Normal   \n",
       "43053   M             64.0     170      88  Well Above Normal   \n",
       "41783   F             43.0     143      64             Normal   \n",
       "\n",
       "                 glucose smoke alcohol_intake cardio        BMI  \\\n",
       "33073             Normal    No             No      0  25.605536   \n",
       "23890             Normal    No             No      1  23.875115   \n",
       "47030             Normal    No             No      1  23.725286   \n",
       "30018             Normal    No             No      1  32.039872   \n",
       "66651             Normal    No             No      1  32.824138   \n",
       "...                  ...   ...            ...    ...        ...   \n",
       "37749             Normal    No             No      1  24.910767   \n",
       "66565             Normal    No             No      1  31.250000   \n",
       "33910             Normal    No             No      0  28.888889   \n",
       "43053  Well Above Normal    No             No      1  30.449827   \n",
       "41783             Normal    No             No      0  31.297374   \n",
       "\n",
       "             BMI_LEVEL  \n",
       "33073       overweight  \n",
       "23890           normal  \n",
       "47030           normal  \n",
       "30018  very overweight  \n",
       "66651  very overweight  \n",
       "...                ...  \n",
       "37749           normal  \n",
       "66565  very overweight  \n",
       "33910       overweight  \n",
       "43053  very overweight  \n",
       "41783  very overweight  \n",
       "\n",
       "[200 rows x 11 columns]"
      ]
     },
     "execution_count": 48,
     "metadata": {},
     "output_type": "execute_result"
    }
   ],
   "source": [
    "cardio_df['BMI_LEVEL'] = pd.cut(x=cardio_df['BMI'], bins=[10, 18.5, 25, 30, 50], labels=['under weight', 'normal', 'overweight','very overweight'])\n",
    "cardio_df"
   ]
  },
  {
   "cell_type": "code",
   "execution_count": 49,
   "metadata": {},
   "outputs": [
    {
     "data": {
      "text/html": [
       "<div>\n",
       "<style scoped>\n",
       "    .dataframe tbody tr th:only-of-type {\n",
       "        vertical-align: middle;\n",
       "    }\n",
       "\n",
       "    .dataframe tbody tr th {\n",
       "        vertical-align: top;\n",
       "    }\n",
       "\n",
       "    .dataframe thead th {\n",
       "        text-align: right;\n",
       "    }\n",
       "</style>\n",
       "<table border=\"1\" class=\"dataframe\">\n",
       "  <thead>\n",
       "    <tr style=\"text-align: right;\">\n",
       "      <th></th>\n",
       "      <th>age( in years )</th>\n",
       "      <th>cardio</th>\n",
       "      <th>BMI_LEVEL</th>\n",
       "    </tr>\n",
       "  </thead>\n",
       "  <tbody>\n",
       "    <tr>\n",
       "      <th>33073</th>\n",
       "      <td>41.0</td>\n",
       "      <td>0</td>\n",
       "      <td>overweight</td>\n",
       "    </tr>\n",
       "    <tr>\n",
       "      <th>23890</th>\n",
       "      <td>51.0</td>\n",
       "      <td>1</td>\n",
       "      <td>normal</td>\n",
       "    </tr>\n",
       "    <tr>\n",
       "      <th>47030</th>\n",
       "      <td>62.0</td>\n",
       "      <td>1</td>\n",
       "      <td>normal</td>\n",
       "    </tr>\n",
       "    <tr>\n",
       "      <th>30018</th>\n",
       "      <td>56.0</td>\n",
       "      <td>1</td>\n",
       "      <td>very overweight</td>\n",
       "    </tr>\n",
       "    <tr>\n",
       "      <th>66651</th>\n",
       "      <td>53.0</td>\n",
       "      <td>1</td>\n",
       "      <td>very overweight</td>\n",
       "    </tr>\n",
       "    <tr>\n",
       "      <th>...</th>\n",
       "      <td>...</td>\n",
       "      <td>...</td>\n",
       "      <td>...</td>\n",
       "    </tr>\n",
       "    <tr>\n",
       "      <th>37749</th>\n",
       "      <td>62.0</td>\n",
       "      <td>1</td>\n",
       "      <td>normal</td>\n",
       "    </tr>\n",
       "    <tr>\n",
       "      <th>66565</th>\n",
       "      <td>63.0</td>\n",
       "      <td>1</td>\n",
       "      <td>very overweight</td>\n",
       "    </tr>\n",
       "    <tr>\n",
       "      <th>33910</th>\n",
       "      <td>41.0</td>\n",
       "      <td>0</td>\n",
       "      <td>overweight</td>\n",
       "    </tr>\n",
       "    <tr>\n",
       "      <th>43053</th>\n",
       "      <td>64.0</td>\n",
       "      <td>1</td>\n",
       "      <td>very overweight</td>\n",
       "    </tr>\n",
       "    <tr>\n",
       "      <th>41783</th>\n",
       "      <td>43.0</td>\n",
       "      <td>0</td>\n",
       "      <td>very overweight</td>\n",
       "    </tr>\n",
       "  </tbody>\n",
       "</table>\n",
       "<p>200 rows × 3 columns</p>\n",
       "</div>"
      ],
      "text/plain": [
       "       age( in years ) cardio        BMI_LEVEL\n",
       "33073             41.0      0       overweight\n",
       "23890             51.0      1           normal\n",
       "47030             62.0      1           normal\n",
       "30018             56.0      1  very overweight\n",
       "66651             53.0      1  very overweight\n",
       "...                ...    ...              ...\n",
       "37749             62.0      1           normal\n",
       "66565             63.0      1  very overweight\n",
       "33910             41.0      0       overweight\n",
       "43053             64.0      1  very overweight\n",
       "41783             43.0      0  very overweight\n",
       "\n",
       "[200 rows x 3 columns]"
      ]
     },
     "execution_count": 49,
     "metadata": {},
     "output_type": "execute_result"
    }
   ],
   "source": [
    "cardio_df[['age( in years )','cardio','BMI_LEVEL']]\n"
   ]
  },
  {
   "cell_type": "markdown",
   "metadata": {},
   "source": [
    "Body Mass Index is an estimate measure of body mass in proprtion to our height.and an=bnorml level of BMI can conclude gain in\n",
    "weight or disproportionate weight.The higher your BMI , the more your are at risk of acquiring a heart disease,high blood \n",
    "pressure and diabetes.Weight gain is the first sign that your heart failure is getting worse."
   ]
  },
  {
   "cell_type": "code",
   "execution_count": 50,
   "metadata": {},
   "outputs": [],
   "source": [
    "import jovian"
   ]
  },
  {
   "cell_type": "code",
   "execution_count": 51,
   "metadata": {},
   "outputs": [
    {
     "data": {
      "application/javascript": [
       "window.require && require([\"base/js/namespace\"],function(Jupyter){Jupyter.notebook.save_checkpoint()})"
      ],
      "text/plain": [
       "<IPython.core.display.Javascript object>"
      ]
     },
     "metadata": {},
     "output_type": "display_data"
    },
    {
     "name": "stdout",
     "output_type": "stream",
     "text": [
      "[jovian] Attempting to save notebook..\u001b[0m\n",
      "[jovian] Updating notebook \"ayshaasif14/heart-diseases-data-analysis\" on https://jovian.ml/\u001b[0m\n",
      "[jovian] Uploading notebook..\u001b[0m\n",
      "[jovian] Capturing environment..\u001b[0m\n",
      "[jovian] Committed successfully! https://jovian.ml/ayshaasif14/heart-diseases-data-analysis\u001b[0m\n"
     ]
    },
    {
     "data": {
      "text/plain": [
       "'https://jovian.ml/ayshaasif14/heart-diseases-data-analysis'"
      ]
     },
     "execution_count": 51,
     "metadata": {},
     "output_type": "execute_result"
    }
   ],
   "source": [
    "jovian.commit()"
   ]
  },
  {
   "cell_type": "markdown",
   "metadata": {},
   "source": [
    "## Inferences and Conclusion\n",
    "\n"
   ]
  },
  {
   "cell_type": "markdown",
   "metadata": {},
   "source": [
    "From the above data , we can conclude that heart diseases are depended on many factors, heart disease tends to worsen with our \n",
    "bad addictions. \n",
    "A s mentioned earlier , heart disease are one of the main f causes of death over the world .Now the cases have worsened to school children suffering from cardiac arrests .\n",
    "THIS does conclude that healthy habits need to be installed in us from an early age."
   ]
  },
  {
   "cell_type": "markdown",
   "metadata": {},
   "source": [
    "- Our Bodies become senstitive ove rtime and need tobe taken care of.\n",
    "\n",
    "- Heart disease can become an easy risk as we age ,hence , it is needed that we manage a healthy lifetsyle.\n",
    "\n",
    "- We might think , cholesterl as theonly risk factor, but it not the only, our genetic factors, glucose level \n",
    "   as well as our lifetsyle affects this .\n",
    "   \n",
    "- Alcohol comsumption damages the heart muscles and must be in control or best be put to stop.\n",
    "\n",
    "- Smoking is an overall  killer ,affecting almost all the internal organs and not only us but also those who are exposed to our smoke , in other words ,those who breath smoky air.\n",
    "\n",
    "- Maintain a stable glucose level, patients with diabetes are more at risk to heart failures than others.\n",
    "\n",
    "- EXCRCISE regularly , mantain a healthy life ,quit smoking and alcohol."
   ]
  },
  {
   "cell_type": "code",
   "execution_count": 52,
   "metadata": {},
   "outputs": [],
   "source": [
    "import jovian"
   ]
  },
  {
   "cell_type": "code",
   "execution_count": 53,
   "metadata": {},
   "outputs": [
    {
     "data": {
      "application/javascript": [
       "window.require && require([\"base/js/namespace\"],function(Jupyter){Jupyter.notebook.save_checkpoint()})"
      ],
      "text/plain": [
       "<IPython.core.display.Javascript object>"
      ]
     },
     "metadata": {},
     "output_type": "display_data"
    },
    {
     "name": "stdout",
     "output_type": "stream",
     "text": [
      "[jovian] Attempting to save notebook..\u001b[0m\n",
      "[jovian] Updating notebook \"ayshaasif14/heart-diseases-data-analysis\" on https://jovian.ml/\u001b[0m\n",
      "[jovian] Uploading notebook..\u001b[0m\n",
      "[jovian] Capturing environment..\u001b[0m\n",
      "[jovian] Committed successfully! https://jovian.ml/ayshaasif14/heart-diseases-data-analysis\u001b[0m\n"
     ]
    },
    {
     "data": {
      "text/plain": [
       "'https://jovian.ml/ayshaasif14/heart-diseases-data-analysis'"
      ]
     },
     "execution_count": 53,
     "metadata": {},
     "output_type": "execute_result"
    }
   ],
   "source": [
    "jovian.commit()"
   ]
  },
  {
   "cell_type": "markdown",
   "metadata": {},
   "source": [
    "## References and Future Work\n",
    "\n"
   ]
  },
  {
   "cell_type": "markdown",
   "metadata": {},
   "source": [
    "\n",
    "- National Heart , Blood and Lung institute\n",
    "- Heart Disease UCI ,dataset\n",
    "- Cardiovascular Disease dataset, Kaggle"
   ]
  },
  {
   "cell_type": "markdown",
   "metadata": {},
   "source": [
    "There is abundant information available,\n",
    "based on all this , we will be looking further deep into the mechansim of heart diseases,\n",
    "\n",
    "- taking a deep dive into the genes involved\n",
    "- the heiracrchy of heart diseases\n",
    "- types and variations of heart disease\n",
    "- comparison of the effectiveness of drugs \n",
    "- use of deep learning and AI \n"
   ]
  },
  {
   "cell_type": "code",
   "execution_count": null,
   "metadata": {},
   "outputs": [],
   "source": []
  },
  {
   "cell_type": "code",
   "execution_count": 54,
   "metadata": {},
   "outputs": [],
   "source": [
    "import jovian"
   ]
  },
  {
   "cell_type": "code",
   "execution_count": 55,
   "metadata": {},
   "outputs": [
    {
     "data": {
      "application/javascript": [
       "window.require && require([\"base/js/namespace\"],function(Jupyter){Jupyter.notebook.save_checkpoint()})"
      ],
      "text/plain": [
       "<IPython.core.display.Javascript object>"
      ]
     },
     "metadata": {},
     "output_type": "display_data"
    },
    {
     "name": "stdout",
     "output_type": "stream",
     "text": [
      "[jovian] Attempting to save notebook..\u001b[0m\n",
      "[jovian] Updating notebook \"ayshaasif14/heart-diseases-data-analysis\" on https://jovian.ml/\u001b[0m\n",
      "[jovian] Uploading notebook..\u001b[0m\n",
      "[jovian] Capturing environment..\u001b[0m\n",
      "[jovian] Committed successfully! https://jovian.ml/ayshaasif14/heart-diseases-data-analysis\u001b[0m\n"
     ]
    },
    {
     "data": {
      "application/javascript": [
       "window.require && require([\"base/js/namespace\"],function(Jupyter){Jupyter.notebook.save_checkpoint()})"
      ],
      "text/plain": [
       "<IPython.core.display.Javascript object>"
      ]
     },
     "metadata": {},
     "output_type": "display_data"
    },
    {
     "name": "stdout",
     "output_type": "stream",
     "text": [
      "[jovian] Attempting to save notebook..\u001b[0m\n",
      "[jovian] Updating notebook \"ayshaasif14/heart-diseases-data-analysis\" on https://jovian.ml/\u001b[0m\n",
      "[jovian] Uploading notebook..\u001b[0m\n",
      "[jovian] Capturing environment..\u001b[0m\n",
      "[jovian] Uploading additional files...\u001b[0m\n",
      "[jovian] Committed successfully! https://jovian.ml/ayshaasif14/heart-diseases-data-analysis\u001b[0m\n"
     ]
    },
    {
     "data": {
      "text/plain": [
       "'https://jovian.ml/ayshaasif14/heart-diseases-data-analysis'"
      ]
     },
     "execution_count": 55,
     "metadata": {},
     "output_type": "execute_result"
    }
   ],
   "source": [
    "jovian.commit()\n",
    "jovian.commit(files=['heart.csv','cardiovascular.csv'])"
   ]
  },
  {
   "cell_type": "code",
   "execution_count": 56,
   "metadata": {},
   "outputs": [],
   "source": [
    "file1.close()\n",
    "file2.close()"
   ]
  },
  {
   "cell_type": "code",
   "execution_count": null,
   "metadata": {},
   "outputs": [],
   "source": []
  },
  {
   "cell_type": "code",
   "execution_count": null,
   "metadata": {},
   "outputs": [],
   "source": []
  },
  {
   "cell_type": "code",
   "execution_count": null,
   "metadata": {},
   "outputs": [],
   "source": []
  }
 ],
 "metadata": {
  "language_info": {
   "codemirror_mode": {
    "name": "ipython",
    "version": 3
   },
   "file_extension": ".py",
   "mimetype": "text/x-python",
   "name": "python",
   "nbconvert_exporter": "python",
   "pygments_lexer": "ipython3",
   "version": "3.8.5"
  }
 },
 "nbformat": 4,
 "nbformat_minor": 4
}